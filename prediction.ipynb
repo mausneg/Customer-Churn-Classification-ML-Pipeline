{
 "cells": [
  {
   "cell_type": "markdown",
   "metadata": {},
   "source": [
    "Menambahkan library yang diperlukan"
   ]
  },
  {
   "cell_type": "code",
   "execution_count": 1,
   "metadata": {},
   "outputs": [
    {
     "name": "stderr",
     "output_type": "stream",
     "text": [
      "2024-11-06 22:18:24.663245: I tensorflow/core/util/port.cc:110] oneDNN custom operations are on. You may see slightly different numerical results due to floating-point round-off errors from different computation orders. To turn them off, set the environment variable `TF_ENABLE_ONEDNN_OPTS=0`.\n",
      "2024-11-06 22:18:24.708752: I tensorflow/core/platform/cpu_feature_guard.cc:182] This TensorFlow binary is optimized to use available CPU instructions in performance-critical operations.\n",
      "To enable the following instructions: AVX2 AVX512F AVX512_VNNI FMA, in other operations, rebuild TensorFlow with the appropriate compiler flags.\n"
     ]
    }
   ],
   "source": [
    "import pandas as pd\n",
    "import tensorflow as tf\n",
    "import requests\n",
    "import json\n",
    "import base64"
   ]
  },
  {
   "cell_type": "markdown",
   "metadata": {},
   "source": [
    "Selanjutnya mendefiniskan function untuk melakukan konversi data ke dalam format `tf.train.Feature` dengan masing-masing tipe data yang dimiliki."
   ]
  },
  {
   "cell_type": "code",
   "execution_count": 2,
   "metadata": {},
   "outputs": [],
   "source": [
    "def string_feature(value):\n",
    "    return tf.train.Feature(\n",
    "        bytes_list=tf.train.BytesList(\n",
    "            value=[bytes(value, \"utf-8\")]\n",
    "        ),\n",
    "    )\n",
    "    \n",
    "def float_feature(value):\n",
    "    return tf.train.Feature(\n",
    "        float_list=tf.train.FloatList(\n",
    "            value=[value]\n",
    "        ),\n",
    "    )\n",
    "    \n",
    "def int_feature(value):\n",
    "    return tf.train.Feature(\n",
    "        int64_list=tf.train.Int64List(\n",
    "            value=[value]\n",
    "        ),\n",
    "    )"
   ]
  },
  {
   "cell_type": "markdown",
   "metadata": {},
   "source": [
    "Function `prepare_json()` digunakan untuk melakukan konversi data ke dalam format yang sesuai dengan dimiliki oleh inputan model."
   ]
  },
  {
   "cell_type": "code",
   "execution_count": 3,
   "metadata": {},
   "outputs": [],
   "source": [
    "def prepare_json(inputs):\n",
    "    feature_spec = dict()\n",
    "    for keys, values in inputs.items():\n",
    "        if isinstance(values, float):\n",
    "            feature_spec[keys] = float_feature(values)\n",
    "        elif isinstance(values, int):\n",
    "            feature_spec[keys] = int_feature(values)\n",
    "        elif isinstance(values, str):\n",
    "            feature_spec[keys] = string_feature(values)\n",
    "    example = tf.train.Example(\n",
    "        features=tf.train.Features(feature=feature_spec)\n",
    "    ).SerializeToString()\n",
    "    result = [{\n",
    "        \"examples\": {\n",
    "            \"b64\": base64.b64encode(example).decode()\n",
    "        }   \n",
    "    }]\n",
    "    return json.dumps({\n",
    "        \"signature_name\": \"serving_default\",\n",
    "        \"instances\": result,\n",
    "    })"
   ]
  },
  {
   "cell_type": "markdown",
   "metadata": {},
   "source": [
    "Selanjutnya function `predict()` digunakan untuk melakukan request prediksi ke dalam model yang telah di-deploy sebelumnya."
   ]
  },
  {
   "cell_type": "code",
   "execution_count": 4,
   "metadata": {},
   "outputs": [],
   "source": [
    "def predict(inputs):\n",
    "    url = \"http://localhost:8080/v1/models/customer-churn-model:predict\"\n",
    "    headers = {\"content-type\": \"application/json\"}\n",
    "    data = []\n",
    "    for i in range(len(inputs['Age'])):\n",
    "        data.append(prepare_json({key: value[i] for key, value in inputs.items()}))\n",
    "    \n",
    "    responses = []\n",
    "    for i in range(len(inputs['Age'])):\n",
    "        response = requests.post(url, data=data[i], headers=headers)\n",
    "        response = 'Churn' if response.json()['predictions'][0][0] > 0.5 else 'Not Churn'\n",
    "        responses.append(response)\n",
    "    return responses\n"
   ]
  },
  {
   "cell_type": "markdown",
   "metadata": {},
   "source": [
    "Mengambil beberapa data secara acak dari dataset eval yang digunakan untuk melakukan prediksi."
   ]
  },
  {
   "cell_type": "code",
   "execution_count": 6,
   "metadata": {},
   "outputs": [
    {
     "name": "stdout",
     "output_type": "stream",
     "text": [
      "['Churn', 'Churn', 'Churn', 'Churn', 'Not Churn']\n"
     ]
    }
   ],
   "source": [
    "df_data = pd.read_csv(\"data/customer_churn_dataset-testing-master.csv\")\n",
    "df_data.pop(\"Churn\")\n",
    "df_data = df_data.sample(5)\n",
    "inputs = {key: value for key, value in df_data.to_dict(orient=\"list\").items()}\n",
    "\n",
    "prediction = predict(inputs)\n",
    "print(prediction)"
   ]
  }
 ],
 "metadata": {
  "kernelspec": {
   "display_name": ".venv",
   "language": "python",
   "name": "python3"
  },
  "language_info": {
   "codemirror_mode": {
    "name": "ipython",
    "version": 3
   },
   "file_extension": ".py",
   "mimetype": "text/x-python",
   "name": "python",
   "nbconvert_exporter": "python",
   "pygments_lexer": "ipython3",
   "version": "3.10.14"
  }
 },
 "nbformat": 4,
 "nbformat_minor": 2
}
